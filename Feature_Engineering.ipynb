{
 "cells": [
  {
   "cell_type": "markdown",
   "metadata": {},
   "source": [
    "# “How likely is a payment to be successful?”"
   ]
  },
  {
   "cell_type": "code",
   "execution_count": 2,
   "metadata": {},
   "outputs": [],
   "source": [
    "import pandas as pd\n",
    "\n",
    "# Dataset loading\n",
    "df = pd.read_csv('truelayer_data_sc_test_data_set.csv')"
   ]
  },
  {
   "cell_type": "markdown",
   "metadata": {},
   "source": [
    "## Feature Engineering"
   ]
  },
  {
   "cell_type": "code",
   "execution_count": 3,
   "metadata": {},
   "outputs": [
    {
     "data": {
      "text/plain": [
       "(422715, 20)"
      ]
     },
     "execution_count": 3,
     "metadata": {},
     "output_type": "execute_result"
    }
   ],
   "source": [
    "# Converting and filtering the dataset based on our findings during the EDA\n",
    "df.status = df.status.str.lower()\n",
    "filtered_df = df[df.status.isin(['executed','failed'])]\n",
    "filtered_df.shape"
   ]
  },
  {
   "cell_type": "code",
   "execution_count": 3,
   "metadata": {},
   "outputs": [
    {
     "data": {
      "text/plain": [
       "id                     object\n",
       "bank_id                object\n",
       "currency               object\n",
       "status                 object\n",
       "api_version            object\n",
       "failure_reason         object\n",
       "failure_stage          object\n",
       "customer_id            object\n",
       "vertical               object\n",
       "connectivity_type      object\n",
       "amount_in_currency    float64\n",
       "country_id             object\n",
       "createdat_ts           object\n",
       "lastupdatedat_ts       object\n",
       "initiated_at           object\n",
       "executed_at            object\n",
       "failed_at              object\n",
       "authorizing_at         object\n",
       "authorized_at          object\n",
       "settled_at             object\n",
       "dtype: object"
      ]
     },
     "execution_count": 3,
     "metadata": {},
     "output_type": "execute_result"
    }
   ],
   "source": [
    "filtered_df.dtypes"
   ]
  },
  {
   "cell_type": "markdown",
   "metadata": {},
   "source": [
    "We can see that there are some columns that we can assume are only filled once the payment has either completed or failed. If we were to use them in our model training, they would be leaking the target variable into the model, and we wouldn't be replicating real-world performance.\n",
    "\n",
    "Therefore, we will exclude those columns and the ID column, as it doesn't provide any useful information."
   ]
  },
  {
   "cell_type": "code",
   "execution_count": 4,
   "metadata": {},
   "outputs": [],
   "source": [
    "cols_to_exclude = ['id', 'failure_reason', 'failure_stage',\n",
    "                   'lastupdatedat_ts', 'initiated_at', 'executed_at', 'failed_at', 'authorizing_at',\n",
    "                   'authorized_at', 'settled_at']\n",
    "\n",
    "filtered_df = filtered_df.drop(columns=cols_to_exclude)"
   ]
  },
  {
   "cell_type": "markdown",
   "metadata": {},
   "source": [
    "Using the remaining columns, we will proceed with some feature engineering and creation. We will create examples of possible features that could be useful for the task of predicting how likely a payment is to succeed.\n",
    "\n",
    "These are just examples of the different possibilities we have, mainly focused on previous behaviours at the point of the payment.\n",
    "\n",
    "Every new feature will be calculated based on the information available up to the point of that specific payment in order to avoid using future information that would not replicate the status of the payment at the point of prediction in the real world."
   ]
  },
  {
   "cell_type": "code",
   "execution_count": 6,
   "metadata": {},
   "outputs": [],
   "source": [
    "# Converting createdat_ts to datetime \n",
    "filtered_df.createdat_ts = pd.to_datetime(filtered_df.createdat_ts)"
   ]
  },
  {
   "cell_type": "code",
   "execution_count": 7,
   "metadata": {},
   "outputs": [],
   "source": [
    "# Sorting dataset by customer_id and creation timestamp so we can calculate values up the the transaction time\n",
    "filtered_df = filtered_df.sort_values(['customer_id', 'createdat_ts'])"
   ]
  },
  {
   "cell_type": "code",
   "execution_count": 8,
   "metadata": {},
   "outputs": [],
   "source": [
    "# Number of previous payments - This feature should provide the model with information about if a customer is new or not which can affect probability of success\n",
    "filtered_df['customer_previous_payment_count'] = filtered_df.groupby('customer_id').cumcount()"
   ]
  },
  {
   "cell_type": "code",
   "execution_count": 11,
   "metadata": {},
   "outputs": [],
   "source": [
    "# Number of successful payments - Similar to total but it will provide information on how many successful payments the customer had\n",
    "filtered_df['is_success'] = (filtered_df['status'] == 'executed').astype(int)\n",
    "filtered_df['customer_success_count'] = filtered_df.groupby('customer_id')['is_success'].cumsum()\n",
    "filtered_df['customer_success_count'] = filtered_df.groupby('customer_id')['customer_success_count'].shift(1).fillna(0)\n",
    "\n",
    "# Asserting no leakage from customer to customer\n",
    "first_rows = filtered_df.groupby('customer_id').first()\n",
    "assert (first_rows['customer_success_count'] == 0).all(), \"Error\""
   ]
  },
  {
   "cell_type": "code",
   "execution_count": 10,
   "metadata": {},
   "outputs": [],
   "source": [
    "# Number of failed payments - Similar to successful payments but for failure information\n",
    "filtered_df['is_failure'] = (filtered_df['status'] == 'failed').astype(int)\n",
    "filtered_df['customer_fail_count'] = filtered_df.groupby('customer_id')['is_failure'].cumsum()\n",
    "filtered_df['customer_fail_count'] = filtered_df.groupby('customer_id')['customer_fail_count'].shift(1).fillna(0)\n",
    "\n",
    "# Asserting no leakage from customer to customer\n",
    "first_rows = filtered_df.groupby('customer_id').first()\n",
    "assert (first_rows['customer_fail_count'] == 0).all(), \"Error\""
   ]
  },
  {
   "cell_type": "code",
   "execution_count": 12,
   "metadata": {},
   "outputs": [],
   "source": [
    "# Testing that successful + failed payments equal the total number of payments per customer\n",
    "assert(filtered_df.customer_fail_count + filtered_df.customer_success_count == filtered_df.customer_previous_payment_count).all(), 'Error'"
   ]
  },
  {
   "cell_type": "code",
   "execution_count": 13,
   "metadata": {},
   "outputs": [],
   "source": [
    "# Payment failure rate - Provides the model information about how many of the previous payments have failed \n",
    "filtered_df['fail_rate'] = round(filtered_df.customer_fail_count / filtered_df.customer_previous_payment_count, 4)\n",
    "filtered_df['fail_rate'] = filtered_df['fail_rate'].fillna(0)"
   ]
  },
  {
   "cell_type": "code",
   "execution_count": 14,
   "metadata": {},
   "outputs": [
    {
     "data": {
      "text/html": [
       "<div>\n",
       "<style scoped>\n",
       "    .dataframe tbody tr th:only-of-type {\n",
       "        vertical-align: middle;\n",
       "    }\n",
       "\n",
       "    .dataframe tbody tr th {\n",
       "        vertical-align: top;\n",
       "    }\n",
       "\n",
       "    .dataframe thead th {\n",
       "        text-align: right;\n",
       "    }\n",
       "</style>\n",
       "<table border=\"1\" class=\"dataframe\">\n",
       "  <thead>\n",
       "    <tr style=\"text-align: right;\">\n",
       "      <th></th>\n",
       "      <th>status</th>\n",
       "      <th>customer_previous_payment_count</th>\n",
       "      <th>customer_success_count</th>\n",
       "      <th>customer_fail_count</th>\n",
       "      <th>fail_rate</th>\n",
       "    </tr>\n",
       "  </thead>\n",
       "  <tbody>\n",
       "    <tr>\n",
       "      <th>472388</th>\n",
       "      <td>failed</td>\n",
       "      <td>0</td>\n",
       "      <td>0.0</td>\n",
       "      <td>0.0</td>\n",
       "      <td>0.0000</td>\n",
       "    </tr>\n",
       "    <tr>\n",
       "      <th>472397</th>\n",
       "      <td>executed</td>\n",
       "      <td>1</td>\n",
       "      <td>0.0</td>\n",
       "      <td>1.0</td>\n",
       "      <td>1.0000</td>\n",
       "    </tr>\n",
       "    <tr>\n",
       "      <th>472371</th>\n",
       "      <td>failed</td>\n",
       "      <td>2</td>\n",
       "      <td>1.0</td>\n",
       "      <td>1.0</td>\n",
       "      <td>0.5000</td>\n",
       "    </tr>\n",
       "    <tr>\n",
       "      <th>472389</th>\n",
       "      <td>executed</td>\n",
       "      <td>3</td>\n",
       "      <td>1.0</td>\n",
       "      <td>2.0</td>\n",
       "      <td>0.6667</td>\n",
       "    </tr>\n",
       "    <tr>\n",
       "      <th>472372</th>\n",
       "      <td>executed</td>\n",
       "      <td>4</td>\n",
       "      <td>2.0</td>\n",
       "      <td>2.0</td>\n",
       "      <td>0.5000</td>\n",
       "    </tr>\n",
       "  </tbody>\n",
       "</table>\n",
       "</div>"
      ],
      "text/plain": [
       "          status  customer_previous_payment_count  customer_success_count  \\\n",
       "472388    failed                                0                     0.0   \n",
       "472397  executed                                1                     0.0   \n",
       "472371    failed                                2                     1.0   \n",
       "472389  executed                                3                     1.0   \n",
       "472372  executed                                4                     2.0   \n",
       "\n",
       "        customer_fail_count  fail_rate  \n",
       "472388                  0.0     0.0000  \n",
       "472397                  1.0     1.0000  \n",
       "472371                  1.0     0.5000  \n",
       "472389                  2.0     0.6667  \n",
       "472372                  2.0     0.5000  "
      ]
     },
     "execution_count": 14,
     "metadata": {},
     "output_type": "execute_result"
    }
   ],
   "source": [
    "# Example of the new features\n",
    "filtered_df[filtered_df.customer_id == 'fe85ac10f39a80d1fcae429f389f7e039696ce61'][['status','customer_previous_payment_count','customer_success_count','customer_fail_count', 'fail_rate']]"
   ]
  },
  {
   "cell_type": "code",
   "execution_count": 14,
   "metadata": {},
   "outputs": [],
   "source": [
    "# Time since last transaction - Will provide the model information about payments done in quick succession\n",
    "filtered_df['time_since_last_transaction'] = filtered_df.groupby('customer_id')['createdat_ts'].diff().dt.total_seconds() / 60"
   ]
  },
  {
   "cell_type": "code",
   "execution_count": 15,
   "metadata": {},
   "outputs": [],
   "source": [
    "# Time since first transaction - Will provide the model information about for how old the customer is in terms of payments\n",
    "filtered_df['time_since_first_transaction'] = filtered_df.groupby('customer_id')['createdat_ts'].transform(lambda x: (x - x.iloc[0]).dt.total_seconds() / 60)"
   ]
  },
  {
   "cell_type": "markdown",
   "metadata": {},
   "source": [
    "As I previously mentioned, there would be a lot more features we could calculate from this handfull of data. Next features could be time wise, for example:\n",
    "- Payments in the last 7, 30, 120 days\n",
    "- We could do failure rates for the bank which we haven't used yet\n",
    "\n",
    "Among many others. \n",
    "\n",
    "Model performance is heavily influenced by its features and how much information we can provide for every single payment, but, for now, we will stop here."
   ]
  },
  {
   "cell_type": "code",
   "execution_count": 16,
   "metadata": {},
   "outputs": [],
   "source": [
    "filtered_df.to_csv('filtered_df.csv', index=False)"
   ]
  }
 ],
 "metadata": {
  "kernelspec": {
   "display_name": ".venv",
   "language": "python",
   "name": "python3"
  },
  "language_info": {
   "codemirror_mode": {
    "name": "ipython",
    "version": 3
   },
   "file_extension": ".py",
   "mimetype": "text/x-python",
   "name": "python",
   "nbconvert_exporter": "python",
   "pygments_lexer": "ipython3",
   "version": "3.12.6"
  }
 },
 "nbformat": 4,
 "nbformat_minor": 2
}
